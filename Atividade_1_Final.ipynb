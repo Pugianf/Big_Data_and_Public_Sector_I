{
  "nbformat": 4,
  "nbformat_minor": 0,
  "metadata": {
    "colab": {
      "name": "Atividade 1 - Final.ipynb",
      "provenance": [],
      "authorship_tag": "ABX9TyOkcLCkugusiOEq7lXTxGHz",
      "include_colab_link": true
    },
    "kernelspec": {
      "name": "python3",
      "display_name": "Python 3"
    },
    "language_info": {
      "name": "python"
    }
  },
  "cells": [
    {
      "cell_type": "markdown",
      "metadata": {
        "id": "view-in-github",
        "colab_type": "text"
      },
      "source": [
        "<a href=\"https://colab.research.google.com/github/Pugianf/Big_Data_and_Public_Sector_I/blob/main/Atividade_1_Final.ipynb\" target=\"_parent\"><img src=\"https://colab.research.google.com/assets/colab-badge.svg\" alt=\"Open In Colab\"/></a>"
      ]
    },
    {
      "cell_type": "code",
      "metadata": {
        "colab": {
          "base_uri": "https://localhost:8080/"
        },
        "id": "3lFD3P_KvrA9",
        "outputId": "708f58ed-5631-4f59-a731-385e4fa22172"
      },
      "source": [
        "# importando bibliotecas necessárias\n",
        "\n",
        "import numpy as np\n",
        "import pandas as pd\n",
        "import statsmodels.api as sm\n",
        "from zipfile import ZipFile\n",
        "from scipy import stats\n",
        "from statsmodels.formula.api import ols"
      ],
      "execution_count": 2,
      "outputs": [
        {
          "output_type": "stream",
          "name": "stderr",
          "text": [
            "/usr/local/lib/python3.7/dist-packages/statsmodels/tools/_testing.py:19: FutureWarning: pandas.util.testing is deprecated. Use the functions in the public API at pandas.testing instead.\n",
            "  import pandas.util.testing as tm\n"
          ]
        }
      ]
    },
    {
      "cell_type": "code",
      "metadata": {
        "colab": {
          "base_uri": "https://localhost:8080/"
        },
        "id": "uXugCt6-wbGh",
        "outputId": "c83b8206-4f75-492f-9343-71cee1aa030d"
      },
      "source": [
        "# conectando ao google drive\n",
        "\n",
        "from google.colab import drive\n",
        "drive.mount('/content/drive')"
      ],
      "execution_count": 3,
      "outputs": [
        {
          "output_type": "stream",
          "name": "stdout",
          "text": [
            "Drive already mounted at /content/drive; to attempt to forcibly remount, call drive.mount(\"/content/drive\", force_remount=True).\n"
          ]
        }
      ]
    },
    {
      "cell_type": "code",
      "metadata": {
        "colab": {
          "base_uri": "https://localhost:8080/"
        },
        "id": "1kL4BR0z2J0R",
        "outputId": "ee34473e-6074-40ab-9c2c-b5520a1634d5"
      },
      "source": [
        "# Definindo a pasta de leitura do arquivo\n",
        "sCaminho = '/content/drive/MyDrive/IDP/Dataset/'\n",
        "\n",
        "## Lendo os arquivos zipados\n",
        "sArquivo = f\"{sCaminho}PNADC_042019.zip\"\n",
        "with ZipFile(sArquivo) as z:\n",
        "    df = pd.read_csv(z.open(\"PNADC_042019.csv\"))\n",
        "    print(*z.namelist(),sep=\"\\n\")"
      ],
      "execution_count": 4,
      "outputs": [
        {
          "output_type": "stream",
          "name": "stdout",
          "text": [
            "PNADC_042019.csv\n"
          ]
        }
      ]
    },
    {
      "cell_type": "code",
      "metadata": {
        "id": "LW8SJua5whde"
      },
      "source": [
        "# retirando a coluna 'unamed: 0'\n",
        "\n",
        "df.drop('Unnamed: 0', axis=1, inplace=True)"
      ],
      "execution_count": 5,
      "outputs": []
    },
    {
      "cell_type": "code",
      "metadata": {
        "colab": {
          "base_uri": "https://localhost:8080/",
          "height": 443
        },
        "id": "8wjgkRJtxlBK",
        "outputId": "2e5e602a-dd6e-4396-9e47-55e7e0d7c071"
      },
      "source": [
        "df"
      ],
      "execution_count": 6,
      "outputs": [
        {
          "output_type": "execute_result",
          "data": {
            "text/html": [
              "<div>\n",
              "<style scoped>\n",
              "    .dataframe tbody tr th:only-of-type {\n",
              "        vertical-align: middle;\n",
              "    }\n",
              "\n",
              "    .dataframe tbody tr th {\n",
              "        vertical-align: top;\n",
              "    }\n",
              "\n",
              "    .dataframe thead th {\n",
              "        text-align: right;\n",
              "    }\n",
              "</style>\n",
              "<table border=\"1\" class=\"dataframe\">\n",
              "  <thead>\n",
              "    <tr style=\"text-align: right;\">\n",
              "      <th></th>\n",
              "      <th>Ano</th>\n",
              "      <th>Trimestre</th>\n",
              "      <th>UF</th>\n",
              "      <th>UPA</th>\n",
              "      <th>Estrato</th>\n",
              "      <th>V1008</th>\n",
              "      <th>V1014</th>\n",
              "      <th>V1022</th>\n",
              "      <th>V1027</th>\n",
              "      <th>V1028</th>\n",
              "      <th>V1029</th>\n",
              "      <th>posest</th>\n",
              "      <th>V2001</th>\n",
              "      <th>V2003</th>\n",
              "      <th>V2005</th>\n",
              "      <th>V2007</th>\n",
              "      <th>V2009</th>\n",
              "      <th>V2010</th>\n",
              "      <th>VD2002</th>\n",
              "      <th>VD2003</th>\n",
              "      <th>VD3004</th>\n",
              "      <th>VD3005</th>\n",
              "      <th>VD3006</th>\n",
              "      <th>VD4001</th>\n",
              "      <th>VD4002</th>\n",
              "      <th>VD4003</th>\n",
              "      <th>VD4005</th>\n",
              "      <th>VD4008</th>\n",
              "      <th>VD4009</th>\n",
              "      <th>VD4010</th>\n",
              "      <th>VD4016</th>\n",
              "      <th>VD4017</th>\n",
              "      <th>VD4019</th>\n",
              "      <th>VD4020</th>\n",
              "      <th>VD4031</th>\n",
              "      <th>VD4035</th>\n",
              "      <th>VD4036</th>\n",
              "      <th>VD4037</th>\n",
              "    </tr>\n",
              "  </thead>\n",
              "  <tbody>\n",
              "    <tr>\n",
              "      <th>0</th>\n",
              "      <td>2019</td>\n",
              "      <td>4</td>\n",
              "      <td>11</td>\n",
              "      <td>110000016</td>\n",
              "      <td>1110011</td>\n",
              "      <td>1</td>\n",
              "      <td>7</td>\n",
              "      <td>1</td>\n",
              "      <td>98.756636</td>\n",
              "      <td>150.693106</td>\n",
              "      <td>532471</td>\n",
              "      <td>111</td>\n",
              "      <td>4</td>\n",
              "      <td>1</td>\n",
              "      <td>1</td>\n",
              "      <td>2</td>\n",
              "      <td>45</td>\n",
              "      <td>4</td>\n",
              "      <td>1</td>\n",
              "      <td>4</td>\n",
              "      <td>5</td>\n",
              "      <td>12</td>\n",
              "      <td>5</td>\n",
              "      <td>1</td>\n",
              "      <td>1</td>\n",
              "      <td>NaN</td>\n",
              "      <td>NaN</td>\n",
              "      <td>1</td>\n",
              "      <td>1</td>\n",
              "      <td>9</td>\n",
              "      <td>2100.0</td>\n",
              "      <td>2100.0</td>\n",
              "      <td>2100.0</td>\n",
              "      <td>2100.0</td>\n",
              "      <td>36</td>\n",
              "      <td>30</td>\n",
              "      <td>2</td>\n",
              "      <td>2</td>\n",
              "    </tr>\n",
              "    <tr>\n",
              "      <th>1</th>\n",
              "      <td>2019</td>\n",
              "      <td>4</td>\n",
              "      <td>11</td>\n",
              "      <td>110000016</td>\n",
              "      <td>1110011</td>\n",
              "      <td>3</td>\n",
              "      <td>7</td>\n",
              "      <td>1</td>\n",
              "      <td>98.756636</td>\n",
              "      <td>150.693106</td>\n",
              "      <td>532471</td>\n",
              "      <td>111</td>\n",
              "      <td>5</td>\n",
              "      <td>2</td>\n",
              "      <td>2</td>\n",
              "      <td>2</td>\n",
              "      <td>54</td>\n",
              "      <td>4</td>\n",
              "      <td>2</td>\n",
              "      <td>5</td>\n",
              "      <td>5</td>\n",
              "      <td>12</td>\n",
              "      <td>5</td>\n",
              "      <td>1</td>\n",
              "      <td>1</td>\n",
              "      <td>NaN</td>\n",
              "      <td>NaN</td>\n",
              "      <td>3</td>\n",
              "      <td>7</td>\n",
              "      <td>9</td>\n",
              "      <td>1000.0</td>\n",
              "      <td>1000.0</td>\n",
              "      <td>1000.0</td>\n",
              "      <td>1000.0</td>\n",
              "      <td>44</td>\n",
              "      <td>38</td>\n",
              "      <td>3</td>\n",
              "      <td>2</td>\n",
              "    </tr>\n",
              "    <tr>\n",
              "      <th>2</th>\n",
              "      <td>2019</td>\n",
              "      <td>4</td>\n",
              "      <td>11</td>\n",
              "      <td>110000016</td>\n",
              "      <td>1110011</td>\n",
              "      <td>4</td>\n",
              "      <td>7</td>\n",
              "      <td>1</td>\n",
              "      <td>98.756636</td>\n",
              "      <td>150.693106</td>\n",
              "      <td>532471</td>\n",
              "      <td>111</td>\n",
              "      <td>2</td>\n",
              "      <td>1</td>\n",
              "      <td>1</td>\n",
              "      <td>1</td>\n",
              "      <td>24</td>\n",
              "      <td>1</td>\n",
              "      <td>1</td>\n",
              "      <td>2</td>\n",
              "      <td>5</td>\n",
              "      <td>12</td>\n",
              "      <td>5</td>\n",
              "      <td>1</td>\n",
              "      <td>1</td>\n",
              "      <td>NaN</td>\n",
              "      <td>NaN</td>\n",
              "      <td>5</td>\n",
              "      <td>9</td>\n",
              "      <td>6</td>\n",
              "      <td>2500.0</td>\n",
              "      <td>2500.0</td>\n",
              "      <td>2500.0</td>\n",
              "      <td>2500.0</td>\n",
              "      <td>48</td>\n",
              "      <td>42</td>\n",
              "      <td>4</td>\n",
              "      <td>3</td>\n",
              "    </tr>\n",
              "    <tr>\n",
              "      <th>3</th>\n",
              "      <td>2019</td>\n",
              "      <td>4</td>\n",
              "      <td>11</td>\n",
              "      <td>110000016</td>\n",
              "      <td>1110011</td>\n",
              "      <td>4</td>\n",
              "      <td>7</td>\n",
              "      <td>1</td>\n",
              "      <td>98.756636</td>\n",
              "      <td>150.693106</td>\n",
              "      <td>532471</td>\n",
              "      <td>111</td>\n",
              "      <td>2</td>\n",
              "      <td>2</td>\n",
              "      <td>12</td>\n",
              "      <td>2</td>\n",
              "      <td>21</td>\n",
              "      <td>4</td>\n",
              "      <td>10</td>\n",
              "      <td>2</td>\n",
              "      <td>5</td>\n",
              "      <td>12</td>\n",
              "      <td>5</td>\n",
              "      <td>1</td>\n",
              "      <td>1</td>\n",
              "      <td>NaN</td>\n",
              "      <td>NaN</td>\n",
              "      <td>1</td>\n",
              "      <td>2</td>\n",
              "      <td>6</td>\n",
              "      <td>1000.0</td>\n",
              "      <td>1000.0</td>\n",
              "      <td>1000.0</td>\n",
              "      <td>1000.0</td>\n",
              "      <td>48</td>\n",
              "      <td>42</td>\n",
              "      <td>4</td>\n",
              "      <td>3</td>\n",
              "    </tr>\n",
              "    <tr>\n",
              "      <th>4</th>\n",
              "      <td>2019</td>\n",
              "      <td>4</td>\n",
              "      <td>11</td>\n",
              "      <td>110000016</td>\n",
              "      <td>1110011</td>\n",
              "      <td>5</td>\n",
              "      <td>7</td>\n",
              "      <td>1</td>\n",
              "      <td>98.756636</td>\n",
              "      <td>150.693106</td>\n",
              "      <td>532471</td>\n",
              "      <td>111</td>\n",
              "      <td>5</td>\n",
              "      <td>3</td>\n",
              "      <td>4</td>\n",
              "      <td>1</td>\n",
              "      <td>30</td>\n",
              "      <td>1</td>\n",
              "      <td>3</td>\n",
              "      <td>5</td>\n",
              "      <td>5</td>\n",
              "      <td>12</td>\n",
              "      <td>5</td>\n",
              "      <td>1</td>\n",
              "      <td>1</td>\n",
              "      <td>NaN</td>\n",
              "      <td>NaN</td>\n",
              "      <td>1</td>\n",
              "      <td>1</td>\n",
              "      <td>4</td>\n",
              "      <td>1600.0</td>\n",
              "      <td>1600.0</td>\n",
              "      <td>1600.0</td>\n",
              "      <td>1600.0</td>\n",
              "      <td>44</td>\n",
              "      <td>38</td>\n",
              "      <td>3</td>\n",
              "      <td>2</td>\n",
              "    </tr>\n",
              "    <tr>\n",
              "      <th>...</th>\n",
              "      <td>...</td>\n",
              "      <td>...</td>\n",
              "      <td>...</td>\n",
              "      <td>...</td>\n",
              "      <td>...</td>\n",
              "      <td>...</td>\n",
              "      <td>...</td>\n",
              "      <td>...</td>\n",
              "      <td>...</td>\n",
              "      <td>...</td>\n",
              "      <td>...</td>\n",
              "      <td>...</td>\n",
              "      <td>...</td>\n",
              "      <td>...</td>\n",
              "      <td>...</td>\n",
              "      <td>...</td>\n",
              "      <td>...</td>\n",
              "      <td>...</td>\n",
              "      <td>...</td>\n",
              "      <td>...</td>\n",
              "      <td>...</td>\n",
              "      <td>...</td>\n",
              "      <td>...</td>\n",
              "      <td>...</td>\n",
              "      <td>...</td>\n",
              "      <td>...</td>\n",
              "      <td>...</td>\n",
              "      <td>...</td>\n",
              "      <td>...</td>\n",
              "      <td>...</td>\n",
              "      <td>...</td>\n",
              "      <td>...</td>\n",
              "      <td>...</td>\n",
              "      <td>...</td>\n",
              "      <td>...</td>\n",
              "      <td>...</td>\n",
              "      <td>...</td>\n",
              "      <td>...</td>\n",
              "    </tr>\n",
              "    <tr>\n",
              "      <th>214284</th>\n",
              "      <td>2019</td>\n",
              "      <td>4</td>\n",
              "      <td>53</td>\n",
              "      <td>530051067</td>\n",
              "      <td>5310211</td>\n",
              "      <td>6</td>\n",
              "      <td>7</td>\n",
              "      <td>1</td>\n",
              "      <td>132.055124</td>\n",
              "      <td>147.638607</td>\n",
              "      <td>3027352</td>\n",
              "      <td>531</td>\n",
              "      <td>3</td>\n",
              "      <td>2</td>\n",
              "      <td>2</td>\n",
              "      <td>1</td>\n",
              "      <td>59</td>\n",
              "      <td>1</td>\n",
              "      <td>2</td>\n",
              "      <td>3</td>\n",
              "      <td>2</td>\n",
              "      <td>5</td>\n",
              "      <td>3</td>\n",
              "      <td>1</td>\n",
              "      <td>1</td>\n",
              "      <td>NaN</td>\n",
              "      <td>NaN</td>\n",
              "      <td>1</td>\n",
              "      <td>1</td>\n",
              "      <td>2</td>\n",
              "      <td>1600.0</td>\n",
              "      <td>1600.0</td>\n",
              "      <td>1600.0</td>\n",
              "      <td>1600.0</td>\n",
              "      <td>44</td>\n",
              "      <td>44</td>\n",
              "      <td>3</td>\n",
              "      <td>3</td>\n",
              "    </tr>\n",
              "    <tr>\n",
              "      <th>214285</th>\n",
              "      <td>2019</td>\n",
              "      <td>4</td>\n",
              "      <td>53</td>\n",
              "      <td>530051067</td>\n",
              "      <td>5310211</td>\n",
              "      <td>7</td>\n",
              "      <td>7</td>\n",
              "      <td>1</td>\n",
              "      <td>132.055124</td>\n",
              "      <td>147.638607</td>\n",
              "      <td>3027352</td>\n",
              "      <td>531</td>\n",
              "      <td>2</td>\n",
              "      <td>2</td>\n",
              "      <td>2</td>\n",
              "      <td>2</td>\n",
              "      <td>43</td>\n",
              "      <td>4</td>\n",
              "      <td>2</td>\n",
              "      <td>2</td>\n",
              "      <td>5</td>\n",
              "      <td>12</td>\n",
              "      <td>5</td>\n",
              "      <td>1</td>\n",
              "      <td>1</td>\n",
              "      <td>NaN</td>\n",
              "      <td>NaN</td>\n",
              "      <td>1</td>\n",
              "      <td>1</td>\n",
              "      <td>7</td>\n",
              "      <td>1400.0</td>\n",
              "      <td>1400.0</td>\n",
              "      <td>1400.0</td>\n",
              "      <td>1400.0</td>\n",
              "      <td>40</td>\n",
              "      <td>40</td>\n",
              "      <td>3</td>\n",
              "      <td>3</td>\n",
              "    </tr>\n",
              "    <tr>\n",
              "      <th>214286</th>\n",
              "      <td>2019</td>\n",
              "      <td>4</td>\n",
              "      <td>53</td>\n",
              "      <td>530051067</td>\n",
              "      <td>5310211</td>\n",
              "      <td>8</td>\n",
              "      <td>7</td>\n",
              "      <td>1</td>\n",
              "      <td>132.055124</td>\n",
              "      <td>147.638607</td>\n",
              "      <td>3027352</td>\n",
              "      <td>531</td>\n",
              "      <td>1</td>\n",
              "      <td>1</td>\n",
              "      <td>1</td>\n",
              "      <td>2</td>\n",
              "      <td>51</td>\n",
              "      <td>2</td>\n",
              "      <td>1</td>\n",
              "      <td>1</td>\n",
              "      <td>2</td>\n",
              "      <td>5</td>\n",
              "      <td>3</td>\n",
              "      <td>1</td>\n",
              "      <td>1</td>\n",
              "      <td>NaN</td>\n",
              "      <td>NaN</td>\n",
              "      <td>5</td>\n",
              "      <td>9</td>\n",
              "      <td>6</td>\n",
              "      <td>400.0</td>\n",
              "      <td>400.0</td>\n",
              "      <td>400.0</td>\n",
              "      <td>400.0</td>\n",
              "      <td>30</td>\n",
              "      <td>30</td>\n",
              "      <td>2</td>\n",
              "      <td>2</td>\n",
              "    </tr>\n",
              "    <tr>\n",
              "      <th>214287</th>\n",
              "      <td>2019</td>\n",
              "      <td>4</td>\n",
              "      <td>53</td>\n",
              "      <td>530051067</td>\n",
              "      <td>5310211</td>\n",
              "      <td>12</td>\n",
              "      <td>7</td>\n",
              "      <td>1</td>\n",
              "      <td>132.055124</td>\n",
              "      <td>147.638607</td>\n",
              "      <td>3027352</td>\n",
              "      <td>531</td>\n",
              "      <td>3</td>\n",
              "      <td>1</td>\n",
              "      <td>1</td>\n",
              "      <td>2</td>\n",
              "      <td>42</td>\n",
              "      <td>1</td>\n",
              "      <td>1</td>\n",
              "      <td>3</td>\n",
              "      <td>3</td>\n",
              "      <td>9</td>\n",
              "      <td>4</td>\n",
              "      <td>1</td>\n",
              "      <td>1</td>\n",
              "      <td>NaN</td>\n",
              "      <td>NaN</td>\n",
              "      <td>1</td>\n",
              "      <td>2</td>\n",
              "      <td>7</td>\n",
              "      <td>1700.0</td>\n",
              "      <td>1700.0</td>\n",
              "      <td>1700.0</td>\n",
              "      <td>1700.0</td>\n",
              "      <td>44</td>\n",
              "      <td>44</td>\n",
              "      <td>3</td>\n",
              "      <td>3</td>\n",
              "    </tr>\n",
              "    <tr>\n",
              "      <th>214288</th>\n",
              "      <td>2019</td>\n",
              "      <td>4</td>\n",
              "      <td>53</td>\n",
              "      <td>530051067</td>\n",
              "      <td>5310211</td>\n",
              "      <td>13</td>\n",
              "      <td>7</td>\n",
              "      <td>1</td>\n",
              "      <td>132.055124</td>\n",
              "      <td>147.638607</td>\n",
              "      <td>3027352</td>\n",
              "      <td>531</td>\n",
              "      <td>2</td>\n",
              "      <td>1</td>\n",
              "      <td>1</td>\n",
              "      <td>2</td>\n",
              "      <td>56</td>\n",
              "      <td>1</td>\n",
              "      <td>1</td>\n",
              "      <td>2</td>\n",
              "      <td>2</td>\n",
              "      <td>5</td>\n",
              "      <td>3</td>\n",
              "      <td>1</td>\n",
              "      <td>1</td>\n",
              "      <td>NaN</td>\n",
              "      <td>NaN</td>\n",
              "      <td>5</td>\n",
              "      <td>9</td>\n",
              "      <td>6</td>\n",
              "      <td>450.0</td>\n",
              "      <td>450.0</td>\n",
              "      <td>450.0</td>\n",
              "      <td>450.0</td>\n",
              "      <td>30</td>\n",
              "      <td>30</td>\n",
              "      <td>2</td>\n",
              "      <td>2</td>\n",
              "    </tr>\n",
              "  </tbody>\n",
              "</table>\n",
              "<p>214289 rows × 38 columns</p>\n",
              "</div>"
            ],
            "text/plain": [
              "         Ano  Trimestre  UF        UPA  ...  VD4031  VD4035  VD4036  VD4037\n",
              "0       2019          4  11  110000016  ...      36      30       2       2\n",
              "1       2019          4  11  110000016  ...      44      38       3       2\n",
              "2       2019          4  11  110000016  ...      48      42       4       3\n",
              "3       2019          4  11  110000016  ...      48      42       4       3\n",
              "4       2019          4  11  110000016  ...      44      38       3       2\n",
              "...      ...        ...  ..        ...  ...     ...     ...     ...     ...\n",
              "214284  2019          4  53  530051067  ...      44      44       3       3\n",
              "214285  2019          4  53  530051067  ...      40      40       3       3\n",
              "214286  2019          4  53  530051067  ...      30      30       2       2\n",
              "214287  2019          4  53  530051067  ...      44      44       3       3\n",
              "214288  2019          4  53  530051067  ...      30      30       2       2\n",
              "\n",
              "[214289 rows x 38 columns]"
            ]
          },
          "metadata": {},
          "execution_count": 6
        }
      ]
    },
    {
      "cell_type": "code",
      "metadata": {
        "id": "GlYyrwALyvx5"
      },
      "source": [
        "# os valores nulos de renda (VD4020) não são pessoas que ganham 0, são pessoas que NÃO TRABALHAM\n",
        "\n",
        "df.dropna(subset=['VD4020'], inplace=True)\n",
        "\n",
        "# retirando pessoas em idade não-ativa\n",
        "\n",
        "df = df.loc[(df[\"V2009\"] >= 15) & (df[\"V2009\"] <= 65)]"
      ],
      "execution_count": 7,
      "outputs": []
    },
    {
      "cell_type": "code",
      "metadata": {
        "colab": {
          "base_uri": "https://localhost:8080/"
        },
        "id": "IomG5pwEt1v6",
        "outputId": "2523bde9-5219-4798-ee5f-353eda2304b7"
      },
      "source": [
        "# verificando o formato da base filtrada\n",
        "\n",
        "df.shape"
      ],
      "execution_count": 8,
      "outputs": [
        {
          "output_type": "execute_result",
          "data": {
            "text/plain": [
              "(214289, 38)"
            ]
          },
          "metadata": {},
          "execution_count": 8
        }
      ]
    },
    {
      "cell_type": "code",
      "metadata": {
        "id": "PB6AbcDPt__Q"
      },
      "source": [
        "# criando a coluna de identificação dos domicilios\n",
        "\n",
        "df['iddom'] = df['UPA'].astype(str) + df['V1008'].astype(str) + df['V1014'].astype(str)\n",
        "\n",
        "df['idind'] = df['iddom'] + df['V2003'].astype(str)"
      ],
      "execution_count": 9,
      "outputs": []
    },
    {
      "cell_type": "code",
      "metadata": {
        "id": "LbEwO-_DuLsv"
      },
      "source": [
        "# criando idade e idade ao quadrado\n",
        "\n",
        "df.rename(columns={\"V2009\":\"idade\"}, inplace=True)\n",
        "\n",
        "df['idadesq'] = df['idade'] ** 2"
      ],
      "execution_count": 10,
      "outputs": []
    },
    {
      "cell_type": "code",
      "metadata": {
        "id": "KyGzScKvuVCG"
      },
      "source": [
        "# criando a dummy feminina\n",
        "\n",
        "df['feminino'] = df['V2007'] - 1"
      ],
      "execution_count": 11,
      "outputs": []
    },
    {
      "cell_type": "code",
      "metadata": {
        "colab": {
          "base_uri": "https://localhost:8080/"
        },
        "id": "eRqC0in2uZuu",
        "outputId": "f70932a7-051a-4743-a434-203e8390bb91"
      },
      "source": [
        "# substituindo os números pelas coress e vendo a quantidade\n",
        "\n",
        "df[\"V2010\"].replace([1,2,3,4,5,9], ['branca','preta','amarela','parda','indigena',np.nan], inplace=True)\n",
        "\n",
        "df['V2010'].value_counts(dropna=False)"
      ],
      "execution_count": 12,
      "outputs": [
        {
          "output_type": "execute_result",
          "data": {
            "text/plain": [
              "parda       104266\n",
              "branca       86858\n",
              "preta        21022\n",
              "amarela       1168\n",
              "indigena       937\n",
              "NaN             38\n",
              "Name: V2010, dtype: int64"
            ]
          },
          "metadata": {},
          "execution_count": 12
        }
      ]
    },
    {
      "cell_type": "code",
      "metadata": {
        "id": "cBucAWNiu8X8"
      },
      "source": [
        "# renomeando a coluna como cor\n",
        "\n",
        "df.rename(columns={\"V2010\":\"cor\"}, inplace=True)"
      ],
      "execution_count": 13,
      "outputs": []
    },
    {
      "cell_type": "code",
      "metadata": {
        "id": "s1PUa0qivDTt"
      },
      "source": [
        "# criando as dummies e juntando-as ao dataframe\n",
        "\n",
        "df = pd.concat([df, pd.get_dummies(df['cor'])], axis=1)"
      ],
      "execution_count": 14,
      "outputs": []
    },
    {
      "cell_type": "code",
      "metadata": {
        "colab": {
          "base_uri": "https://localhost:8080/",
          "height": 423
        },
        "id": "x42-mN8lvKBk",
        "outputId": "70ec9963-46a9-4969-e296-19a6d736cfe2"
      },
      "source": [
        "# verificando a dummy\n",
        "\n",
        "df[['cor', 'branca','preta','amarela','parda','indigena']]"
      ],
      "execution_count": 15,
      "outputs": [
        {
          "output_type": "execute_result",
          "data": {
            "text/html": [
              "<div>\n",
              "<style scoped>\n",
              "    .dataframe tbody tr th:only-of-type {\n",
              "        vertical-align: middle;\n",
              "    }\n",
              "\n",
              "    .dataframe tbody tr th {\n",
              "        vertical-align: top;\n",
              "    }\n",
              "\n",
              "    .dataframe thead th {\n",
              "        text-align: right;\n",
              "    }\n",
              "</style>\n",
              "<table border=\"1\" class=\"dataframe\">\n",
              "  <thead>\n",
              "    <tr style=\"text-align: right;\">\n",
              "      <th></th>\n",
              "      <th>cor</th>\n",
              "      <th>branca</th>\n",
              "      <th>preta</th>\n",
              "      <th>amarela</th>\n",
              "      <th>parda</th>\n",
              "      <th>indigena</th>\n",
              "    </tr>\n",
              "  </thead>\n",
              "  <tbody>\n",
              "    <tr>\n",
              "      <th>0</th>\n",
              "      <td>parda</td>\n",
              "      <td>0</td>\n",
              "      <td>0</td>\n",
              "      <td>0</td>\n",
              "      <td>1</td>\n",
              "      <td>0</td>\n",
              "    </tr>\n",
              "    <tr>\n",
              "      <th>1</th>\n",
              "      <td>parda</td>\n",
              "      <td>0</td>\n",
              "      <td>0</td>\n",
              "      <td>0</td>\n",
              "      <td>1</td>\n",
              "      <td>0</td>\n",
              "    </tr>\n",
              "    <tr>\n",
              "      <th>2</th>\n",
              "      <td>branca</td>\n",
              "      <td>1</td>\n",
              "      <td>0</td>\n",
              "      <td>0</td>\n",
              "      <td>0</td>\n",
              "      <td>0</td>\n",
              "    </tr>\n",
              "    <tr>\n",
              "      <th>3</th>\n",
              "      <td>parda</td>\n",
              "      <td>0</td>\n",
              "      <td>0</td>\n",
              "      <td>0</td>\n",
              "      <td>1</td>\n",
              "      <td>0</td>\n",
              "    </tr>\n",
              "    <tr>\n",
              "      <th>4</th>\n",
              "      <td>branca</td>\n",
              "      <td>1</td>\n",
              "      <td>0</td>\n",
              "      <td>0</td>\n",
              "      <td>0</td>\n",
              "      <td>0</td>\n",
              "    </tr>\n",
              "    <tr>\n",
              "      <th>...</th>\n",
              "      <td>...</td>\n",
              "      <td>...</td>\n",
              "      <td>...</td>\n",
              "      <td>...</td>\n",
              "      <td>...</td>\n",
              "      <td>...</td>\n",
              "    </tr>\n",
              "    <tr>\n",
              "      <th>214284</th>\n",
              "      <td>branca</td>\n",
              "      <td>1</td>\n",
              "      <td>0</td>\n",
              "      <td>0</td>\n",
              "      <td>0</td>\n",
              "      <td>0</td>\n",
              "    </tr>\n",
              "    <tr>\n",
              "      <th>214285</th>\n",
              "      <td>parda</td>\n",
              "      <td>0</td>\n",
              "      <td>0</td>\n",
              "      <td>0</td>\n",
              "      <td>1</td>\n",
              "      <td>0</td>\n",
              "    </tr>\n",
              "    <tr>\n",
              "      <th>214286</th>\n",
              "      <td>preta</td>\n",
              "      <td>0</td>\n",
              "      <td>1</td>\n",
              "      <td>0</td>\n",
              "      <td>0</td>\n",
              "      <td>0</td>\n",
              "    </tr>\n",
              "    <tr>\n",
              "      <th>214287</th>\n",
              "      <td>branca</td>\n",
              "      <td>1</td>\n",
              "      <td>0</td>\n",
              "      <td>0</td>\n",
              "      <td>0</td>\n",
              "      <td>0</td>\n",
              "    </tr>\n",
              "    <tr>\n",
              "      <th>214288</th>\n",
              "      <td>branca</td>\n",
              "      <td>1</td>\n",
              "      <td>0</td>\n",
              "      <td>0</td>\n",
              "      <td>0</td>\n",
              "      <td>0</td>\n",
              "    </tr>\n",
              "  </tbody>\n",
              "</table>\n",
              "<p>214289 rows × 6 columns</p>\n",
              "</div>"
            ],
            "text/plain": [
              "           cor  branca  preta  amarela  parda  indigena\n",
              "0        parda       0      0        0      1         0\n",
              "1        parda       0      0        0      1         0\n",
              "2       branca       1      0        0      0         0\n",
              "3        parda       0      0        0      1         0\n",
              "4       branca       1      0        0      0         0\n",
              "...        ...     ...    ...      ...    ...       ...\n",
              "214284  branca       1      0        0      0         0\n",
              "214285   parda       0      0        0      1         0\n",
              "214286   preta       0      1        0      0         0\n",
              "214287  branca       1      0        0      0         0\n",
              "214288  branca       1      0        0      0         0\n",
              "\n",
              "[214289 rows x 6 columns]"
            ]
          },
          "metadata": {},
          "execution_count": 15
        }
      ]
    },
    {
      "cell_type": "code",
      "metadata": {
        "colab": {
          "base_uri": "https://localhost:8080/"
        },
        "id": "D5rJ86CRvTti",
        "outputId": "2a19cb5a-fbdf-48b2-dd8c-dfa9b3613f6e"
      },
      "source": [
        "# substituindo os números de educação pelos nomes e verificando a quantidade\n",
        "\n",
        "df[\"VD3004\"].replace([1,2,3,4,5,6,7], ['sem_instrucao','fund_incompleto','fund_completo','medio_incompleto','medio_completo','superior_incompleto','superior_completo'], inplace= True)\n",
        "\n",
        "df['VD3004'].value_counts(normalize=True, dropna=False)*100"
      ],
      "execution_count": 16,
      "outputs": [
        {
          "output_type": "execute_result",
          "data": {
            "text/plain": [
              "medio_completo         32.885962\n",
              "fund_incompleto        25.040483\n",
              "superior_completo      18.809645\n",
              "fund_completo           8.201074\n",
              "medio_incompleto        6.794096\n",
              "superior_incompleto     5.887843\n",
              "sem_instrucao           2.380897\n",
              "Name: VD3004, dtype: float64"
            ]
          },
          "metadata": {},
          "execution_count": 16
        }
      ]
    },
    {
      "cell_type": "code",
      "metadata": {
        "id": "lT139umjvdJm"
      },
      "source": [
        "# criando as dummies e juntando-as ao dataframe\n",
        "\n",
        "df = pd.concat([df, pd.get_dummies(df['VD3004'])], axis = 1)"
      ],
      "execution_count": 17,
      "outputs": []
    },
    {
      "cell_type": "code",
      "metadata": {
        "id": "yYlRDSKOvv7L"
      },
      "source": [
        "# V1022: domicilios rurais - alterando o nome e criando a dummy\n",
        "\n",
        "df['rural'] = df['V1022'] - 1"
      ],
      "execution_count": 18,
      "outputs": []
    },
    {
      "cell_type": "code",
      "metadata": {
        "colab": {
          "base_uri": "https://localhost:8080/"
        },
        "id": "vq7DC-q6v3op",
        "outputId": "b03e5f35-d475-4270-cf94-0da6801c2fb1"
      },
      "source": [
        "# verificando proporções\n",
        "\n",
        "df['rural'].value_counts(normalize=True, dropna=False)*100"
      ],
      "execution_count": 19,
      "outputs": [
        {
          "output_type": "execute_result",
          "data": {
            "text/plain": [
              "0    78.682994\n",
              "1    21.317006\n",
              "Name: rural, dtype: float64"
            ]
          },
          "metadata": {},
          "execution_count": 19
        }
      ]
    },
    {
      "cell_type": "code",
      "metadata": {
        "id": "Sy6ZEuGzv7pM"
      },
      "source": [
        "# VD4001: força de trabalho (mais especificamente, fora dela)\n",
        "\n",
        "df['VD4001'] = df['VD4001'] - 1\n",
        "\n",
        "# VD4002: ocupação (mais especificamente, pessoas desocupadas)\n",
        "\n",
        "df['VD4002'] = df['VD4002'] - 1"
      ],
      "execution_count": 20,
      "outputs": []
    },
    {
      "cell_type": "code",
      "metadata": {
        "id": "ZtpoUPOjwCvK"
      },
      "source": [
        "# dummies de ocupaão para tipos de trabalho - mais agregado\n",
        "\n",
        "df['VD4008'].replace([1,2,3,4,5,6], ['privado','domestico','publico','empregador','conta_propria','familiar'], inplace=True)\n",
        "\n",
        "df = pd.concat([df,pd.get_dummies(df['VD4008'])], axis = 1)\n",
        "\n",
        "df = df.drop(['conta_propria','familiar'], axis = 1)\n",
        "\n",
        "# desagregado\n",
        "\n",
        "df[\"VD4009\"].replace([1,2,3,4,5,6,7,8,9,10], ['privado_formal','privado_informal','domestico_formal','domestico_informal','publico_formal','publico_informal','militar','empregador1','conta_propria','familiar'], inplace= True)\n",
        "\n",
        "df = pd.concat([df,pd.get_dummies(df['VD4009'])], axis = 1)\n",
        "\n",
        "# setor de ocupação\n",
        "\n",
        "df['VD4010'] = df['VD4010'].replace([1,2,3,4,5,6,7,8,9,10,11,12], ['agro','industria','construcao','comercio','transporte','aloj_alim','servicos','adm_publica','educ_saude','outros_servicos','servicos_domesticos','ativ_mal_definidas'])\n",
        "\n",
        "df = pd.concat([df,pd.get_dummies(df['VD4010'])], axis = 1)"
      ],
      "execution_count": 21,
      "outputs": []
    },
    {
      "cell_type": "code",
      "metadata": {
        "id": "s4Rvq52Qw8Gd"
      },
      "source": [
        "# renomendo a coluna educação\n",
        "\n",
        "df.rename(columns={\"VD3005\":\"educ\",\"VD3004\":\"grau_educ\"}, inplace=True)"
      ],
      "execution_count": 22,
      "outputs": []
    },
    {
      "cell_type": "code",
      "metadata": {
        "id": "ZLnSDk5kxGNg"
      },
      "source": [
        "# renomeando as rendas\n",
        "\n",
        "nomes_renda = {'VD4016':'renda_hab_prin','VD4017':'renda_efet_prin','VD4019':'renda_hab_tot','VD4020':'renda_efet_tot','VD4031':'horas_hab_tot','VD4032':'horas_efet_prin','VD4035':'horas_efet_tot'}\n",
        "\n",
        "df.rename(columns = nomes_renda, inplace = True)"
      ],
      "execution_count": 23,
      "outputs": []
    },
    {
      "cell_type": "code",
      "metadata": {
        "colab": {
          "base_uri": "https://localhost:8080/",
          "height": 300
        },
        "id": "tfqZg2fTxVF3",
        "outputId": "fe741867-68ca-46a4-d6ad-e8b0b98f2995"
      },
      "source": [
        "# vendo estatísticas das diferentes rendas e horas trabalhadas\n",
        "\n",
        "df[['renda_hab_tot','renda_hab_prin','renda_efet_tot','renda_efet_prin','horas_hab_tot','horas_efet_tot']].describe()"
      ],
      "execution_count": 24,
      "outputs": [
        {
          "output_type": "execute_result",
          "data": {
            "text/html": [
              "<div>\n",
              "<style scoped>\n",
              "    .dataframe tbody tr th:only-of-type {\n",
              "        vertical-align: middle;\n",
              "    }\n",
              "\n",
              "    .dataframe tbody tr th {\n",
              "        vertical-align: top;\n",
              "    }\n",
              "\n",
              "    .dataframe thead th {\n",
              "        text-align: right;\n",
              "    }\n",
              "</style>\n",
              "<table border=\"1\" class=\"dataframe\">\n",
              "  <thead>\n",
              "    <tr style=\"text-align: right;\">\n",
              "      <th></th>\n",
              "      <th>renda_hab_tot</th>\n",
              "      <th>renda_hab_prin</th>\n",
              "      <th>renda_efet_tot</th>\n",
              "      <th>renda_efet_prin</th>\n",
              "      <th>horas_hab_tot</th>\n",
              "      <th>horas_efet_tot</th>\n",
              "    </tr>\n",
              "  </thead>\n",
              "  <tbody>\n",
              "    <tr>\n",
              "      <th>count</th>\n",
              "      <td>214289.000000</td>\n",
              "      <td>214234.000000</td>\n",
              "      <td>214289.000000</td>\n",
              "      <td>214234.000000</td>\n",
              "      <td>214289.000000</td>\n",
              "      <td>214289.000000</td>\n",
              "    </tr>\n",
              "    <tr>\n",
              "      <th>mean</th>\n",
              "      <td>2065.758723</td>\n",
              "      <td>1999.496032</td>\n",
              "      <td>2114.715151</td>\n",
              "      <td>2050.186530</td>\n",
              "      <td>39.499078</td>\n",
              "      <td>38.111000</td>\n",
              "    </tr>\n",
              "    <tr>\n",
              "      <th>std</th>\n",
              "      <td>3140.350727</td>\n",
              "      <td>2926.786465</td>\n",
              "      <td>3353.240686</td>\n",
              "      <td>3156.096584</td>\n",
              "      <td>12.328975</td>\n",
              "      <td>13.942289</td>\n",
              "    </tr>\n",
              "    <tr>\n",
              "      <th>min</th>\n",
              "      <td>5.000000</td>\n",
              "      <td>5.000000</td>\n",
              "      <td>0.000000</td>\n",
              "      <td>0.000000</td>\n",
              "      <td>1.000000</td>\n",
              "      <td>0.000000</td>\n",
              "    </tr>\n",
              "    <tr>\n",
              "      <th>25%</th>\n",
              "      <td>998.000000</td>\n",
              "      <td>998.000000</td>\n",
              "      <td>950.000000</td>\n",
              "      <td>900.000000</td>\n",
              "      <td>36.000000</td>\n",
              "      <td>30.000000</td>\n",
              "    </tr>\n",
              "    <tr>\n",
              "      <th>50%</th>\n",
              "      <td>1300.000000</td>\n",
              "      <td>1235.000000</td>\n",
              "      <td>1300.000000</td>\n",
              "      <td>1300.000000</td>\n",
              "      <td>40.000000</td>\n",
              "      <td>40.000000</td>\n",
              "    </tr>\n",
              "    <tr>\n",
              "      <th>75%</th>\n",
              "      <td>2000.000000</td>\n",
              "      <td>2000.000000</td>\n",
              "      <td>2200.000000</td>\n",
              "      <td>2100.000000</td>\n",
              "      <td>44.000000</td>\n",
              "      <td>44.000000</td>\n",
              "    </tr>\n",
              "    <tr>\n",
              "      <th>max</th>\n",
              "      <td>300000.000000</td>\n",
              "      <td>200000.000000</td>\n",
              "      <td>300000.000000</td>\n",
              "      <td>200000.000000</td>\n",
              "      <td>120.000000</td>\n",
              "      <td>120.000000</td>\n",
              "    </tr>\n",
              "  </tbody>\n",
              "</table>\n",
              "</div>"
            ],
            "text/plain": [
              "       renda_hab_tot  renda_hab_prin  ...  horas_hab_tot  horas_efet_tot\n",
              "count  214289.000000   214234.000000  ...  214289.000000   214289.000000\n",
              "mean     2065.758723     1999.496032  ...      39.499078       38.111000\n",
              "std      3140.350727     2926.786465  ...      12.328975       13.942289\n",
              "min         5.000000        5.000000  ...       1.000000        0.000000\n",
              "25%       998.000000      998.000000  ...      36.000000       30.000000\n",
              "50%      1300.000000     1235.000000  ...      40.000000       40.000000\n",
              "75%      2000.000000     2000.000000  ...      44.000000       44.000000\n",
              "max    300000.000000   200000.000000  ...     120.000000      120.000000\n",
              "\n",
              "[8 rows x 6 columns]"
            ]
          },
          "metadata": {},
          "execution_count": 24
        }
      ]
    },
    {
      "cell_type": "code",
      "metadata": {
        "id": "xhm47_7Fxc5m"
      },
      "source": [
        "# para controlar para a oferta de horas de trabalho (mulheres ofertam menos horas)\n",
        "\n",
        "# dividimos pelo número de horas trabalhadas, o que é mais um motivo para usar rendas habituais\n",
        "\n",
        "# (rendas efetivas possuem alguns 0, o que causaria problemas de divisão)\n",
        "\n",
        "df['renda_hab_hora'] = df['renda_hab_tot']/(df['horas_hab_tot']*4)\n",
        "\n",
        "df['lsalariohora'] = np.log(df['renda_hab_hora'])"
      ],
      "execution_count": 25,
      "outputs": []
    },
    {
      "cell_type": "code",
      "metadata": {
        "colab": {
          "base_uri": "https://localhost:8080/"
        },
        "id": "MlhMqzMCxuIV",
        "outputId": "47002a67-1373-4506-da77-b096532075c6"
      },
      "source": [
        "# média por cor\n",
        "\n",
        "df.groupby('cor')['renda_hab_tot'].mean()"
      ],
      "execution_count": 26,
      "outputs": [
        {
          "output_type": "execute_result",
          "data": {
            "text/plain": [
              "cor\n",
              "amarela     3030.017123\n",
              "branca      2716.787746\n",
              "indigena    1609.202775\n",
              "parda       1610.638147\n",
              "preta       1600.490391\n",
              "Name: renda_hab_tot, dtype: float64"
            ]
          },
          "metadata": {},
          "execution_count": 26
        }
      ]
    },
    {
      "cell_type": "code",
      "metadata": {
        "id": "M1deauNAyhpi"
      },
      "source": [
        "# subamostra de amarelos\n",
        "\n",
        "vRendaAmarelo = df['renda_hab_tot'].loc[df['cor'] == 'amarela']\n",
        "\n",
        "# subamostra de brancos\n",
        "\n",
        "vRendaBrancos = df['renda_hab_tot'].loc[df['cor'] == 'branca']\n",
        "\n",
        "# subamostra de indigenas\n",
        "\n",
        "vRendaIndigenas = df['renda_hab_tot'].loc[df['cor'] == 'indigena']\n",
        "\n",
        "# subamostra de pardos\n",
        "\n",
        "vRendaPardos = df['renda_hab_tot'].loc[df['cor'] == 'parda']\n",
        "\n",
        "# Subamostra de mulheres\n",
        "\n",
        "vRendaPretos = df['renda_hab_tot'].loc[df['cor'] == 'preta']"
      ],
      "execution_count": 27,
      "outputs": []
    },
    {
      "cell_type": "code",
      "metadata": {
        "colab": {
          "base_uri": "https://localhost:8080/"
        },
        "id": "CY-HotZhzsUa",
        "outputId": "db378605-ea6a-45bf-8c50-8d658e9de2db"
      },
      "source": [
        "# teste\n",
        "\n",
        "stats.ttest_ind(vRendaPretos, vRendaBrancos, nan_policy='omit')"
      ],
      "execution_count": 28,
      "outputs": [
        {
          "output_type": "execute_result",
          "data": {
            "text/plain": [
              "Ttest_indResult(statistic=-38.13164970293536, pvalue=0.0)"
            ]
          },
          "metadata": {},
          "execution_count": 28
        }
      ]
    },
    {
      "cell_type": "code",
      "metadata": {
        "colab": {
          "base_uri": "https://localhost:8080/"
        },
        "id": "0YWNVHeszuC6",
        "outputId": "5affbce4-743a-4186-979a-77e9876b82f5"
      },
      "source": [
        "# criando fórmula\n",
        "\n",
        "formula = \"lsalariohora ~ preta + parda + amarela + indigena\"\n",
        "\n",
        "# modelo\n",
        "\n",
        "mod = ols(formula, df).fit(use_t=True)\n",
        "\n",
        "# vendo os resultados\n",
        "\n",
        "print(mod.summary())"
      ],
      "execution_count": 29,
      "outputs": [
        {
          "output_type": "stream",
          "name": "stdout",
          "text": [
            "                            OLS Regression Results                            \n",
            "==============================================================================\n",
            "Dep. Variable:           lsalariohora   R-squared:                       0.056\n",
            "Model:                            OLS   Adj. R-squared:                  0.056\n",
            "Method:                 Least Squares   F-statistic:                     3162.\n",
            "Date:                Sun, 28 Nov 2021   Prob (F-statistic):               0.00\n",
            "Time:                        23:40:09   Log-Likelihood:            -2.6423e+05\n",
            "No. Observations:              214289   AIC:                         5.285e+05\n",
            "Df Residuals:                  214284   BIC:                         5.285e+05\n",
            "Df Model:                           4                                         \n",
            "Covariance Type:            nonrobust                                         \n",
            "==============================================================================\n",
            "                 coef    std err          t      P>|t|      [0.025      0.975]\n",
            "------------------------------------------------------------------------------\n",
            "Intercept      2.4209      0.003    859.393      0.000       2.415       2.426\n",
            "preta         -0.3836      0.006    -60.104      0.000      -0.396      -0.371\n",
            "parda         -0.4144      0.004   -108.644      0.000      -0.422      -0.407\n",
            "amarela       -0.0039      0.024     -0.159      0.873      -0.052       0.044\n",
            "indigena      -0.4624      0.027    -16.953      0.000      -0.516      -0.409\n",
            "==============================================================================\n",
            "Omnibus:                     8851.897   Durbin-Watson:                   1.259\n",
            "Prob(Omnibus):                  0.000   Jarque-Bera (JB):            28367.159\n",
            "Skew:                           0.077   Prob(JB):                         0.00\n",
            "Kurtosis:                       4.776   Cond. No.                         17.3\n",
            "==============================================================================\n",
            "\n",
            "Warnings:\n",
            "[1] Standard Errors assume that the covariance matrix of the errors is correctly specified.\n"
          ]
        }
      ]
    },
    {
      "cell_type": "code",
      "metadata": {
        "colab": {
          "base_uri": "https://localhost:8080/"
        },
        "id": "QjlGOcKC7J7p",
        "outputId": "ca38cffa-df55-478b-8074-b8731ae41942"
      },
      "source": [
        "# modelo mais completo com educ, idade e gênero\n",
        "\n",
        "formula = \"lsalariohora ~ educ + idade + feminino + preta + parda + amarela + indigena\"\n",
        "\n",
        "mod = ols(formula, df).fit(use_t=True)\n",
        "\n",
        "# vendo os resultados\n",
        "\n",
        "print(mod.summary())"
      ],
      "execution_count": 31,
      "outputs": [
        {
          "output_type": "stream",
          "name": "stdout",
          "text": [
            "                            OLS Regression Results                            \n",
            "==============================================================================\n",
            "Dep. Variable:           lsalariohora   R-squared:                       0.322\n",
            "Model:                            OLS   Adj. R-squared:                  0.322\n",
            "Method:                 Least Squares   F-statistic:                 1.453e+04\n",
            "Date:                Sun, 28 Nov 2021   Prob (F-statistic):               0.00\n",
            "Time:                        23:42:29   Log-Likelihood:            -2.2875e+05\n",
            "No. Observations:              214289   AIC:                         4.575e+05\n",
            "Df Residuals:                  214281   BIC:                         4.576e+05\n",
            "Df Model:                           7                                         \n",
            "Covariance Type:            nonrobust                                         \n",
            "==============================================================================\n",
            "                 coef    std err          t      P>|t|      [0.025      0.975]\n",
            "------------------------------------------------------------------------------\n",
            "Intercept      0.5391      0.008     67.992      0.000       0.524       0.555\n",
            "educ           0.1100      0.000    281.747      0.000       0.109       0.111\n",
            "idade          0.0181      0.000    138.884      0.000       0.018       0.018\n",
            "feminino      -0.2088      0.003    -66.226      0.000      -0.215      -0.203\n",
            "preta         -0.2162      0.005    -39.730      0.000      -0.227      -0.206\n",
            "parda         -0.2346      0.003    -71.191      0.000      -0.241      -0.228\n",
            "amarela       -0.0421      0.021     -2.030      0.042      -0.083      -0.001\n",
            "indigena      -0.2705      0.023    -11.698      0.000      -0.316      -0.225\n",
            "==============================================================================\n",
            "Omnibus:                    10364.199   Durbin-Watson:                   1.514\n",
            "Prob(Omnibus):                  0.000   Jarque-Bera (JB):            35373.566\n",
            "Skew:                          -0.132   Prob(JB):                         0.00\n",
            "Kurtosis:                       4.973   Cond. No.                         640.\n",
            "==============================================================================\n",
            "\n",
            "Warnings:\n",
            "[1] Standard Errors assume that the covariance matrix of the errors is correctly specified.\n"
          ]
        }
      ]
    },
    {
      "cell_type": "code",
      "metadata": {
        "colab": {
          "base_uri": "https://localhost:8080/"
        },
        "id": "wtqOr4ag7wwN",
        "outputId": "accded62-fde9-4256-c82b-f3474f9e3604"
      },
      "source": [
        "# modelo mais completo com educ, educ2, idade, idade2 e gênero\n",
        "\n",
        "df['educsq'] = df['educ']**2\n",
        "\n",
        "formula = 'lsalariohora ~ educ + educsq + idade + idadesq + feminino + preta + parda + amarela + indigena'\n",
        "\n",
        "mod = ols(formula, df).fit(use_t=True)\n",
        "\n",
        "# vendo os resultados\n",
        "\n",
        "print(mod.summary())"
      ],
      "execution_count": 33,
      "outputs": [
        {
          "output_type": "stream",
          "name": "stdout",
          "text": [
            "                            OLS Regression Results                            \n",
            "==============================================================================\n",
            "Dep. Variable:           lsalariohora   R-squared:                       0.345\n",
            "Model:                            OLS   Adj. R-squared:                  0.345\n",
            "Method:                 Least Squares   F-statistic:                 1.254e+04\n",
            "Date:                Sun, 28 Nov 2021   Prob (F-statistic):               0.00\n",
            "Time:                        23:44:44   Log-Likelihood:            -2.2503e+05\n",
            "No. Observations:              214289   AIC:                         4.501e+05\n",
            "Df Residuals:                  214279   BIC:                         4.502e+05\n",
            "Df Model:                           9                                         \n",
            "Covariance Type:            nonrobust                                         \n",
            "==============================================================================\n",
            "                 coef    std err          t      P>|t|      [0.025      0.975]\n",
            "------------------------------------------------------------------------------\n",
            "Intercept      0.4484      0.017     26.037      0.000       0.415       0.482\n",
            "educ           0.0017      0.001      1.118      0.264      -0.001       0.005\n",
            "educsq         0.0057   7.67e-05     74.893      0.000       0.006       0.006\n",
            "idade          0.0480      0.001     59.578      0.000       0.046       0.050\n",
            "idadesq       -0.0004      1e-05    -40.010      0.000      -0.000      -0.000\n",
            "feminino      -0.2219      0.003    -71.521      0.000      -0.228      -0.216\n",
            "preta         -0.2096      0.005    -39.163      0.000      -0.220      -0.199\n",
            "parda         -0.2302      0.003    -70.997      0.000      -0.237      -0.224\n",
            "amarela       -0.0542      0.020     -2.660      0.008      -0.094      -0.014\n",
            "indigena      -0.2688      0.023    -11.828      0.000      -0.313      -0.224\n",
            "==============================================================================\n",
            "Omnibus:                    12053.571   Durbin-Watson:                   1.516\n",
            "Prob(Omnibus):                  0.000   Jarque-Bera (JB):            40917.005\n",
            "Skew:                          -0.215   Prob(JB):                         0.00\n",
            "Kurtosis:                       5.097   Cond. No.                     2.95e+04\n",
            "==============================================================================\n",
            "\n",
            "Warnings:\n",
            "[1] Standard Errors assume that the covariance matrix of the errors is correctly specified.\n",
            "[2] The condition number is large, 2.95e+04. This might indicate that there are\n",
            "strong multicollinearity or other numerical problems.\n"
          ]
        }
      ]
    },
    {
      "cell_type": "code",
      "metadata": {
        "id": "AibLsWLA8NGX"
      },
      "source": [
        ""
      ],
      "execution_count": null,
      "outputs": []
    }
  ]
}