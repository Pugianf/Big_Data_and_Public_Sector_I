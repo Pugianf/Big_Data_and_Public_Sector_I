{
  "nbformat": 4,
  "nbformat_minor": 0,
  "metadata": {
    "colab": {
      "name": "Aula_5_2021_10_23.ipynb",
      "provenance": [],
      "collapsed_sections": [],
      "include_colab_link": true
    },
    "kernelspec": {
      "name": "python3",
      "display_name": "Python 3"
    },
    "language_info": {
      "name": "python"
    }
  },
  "cells": [
    {
      "cell_type": "markdown",
      "metadata": {
        "id": "view-in-github",
        "colab_type": "text"
      },
      "source": [
        "<a href=\"https://colab.research.google.com/github/Pugianf/Big_Data_and_Public_Sector_I/blob/main/Aula_5_2021_10_23.ipynb\" target=\"_parent\"><img src=\"https://colab.research.google.com/assets/colab-badge.svg\" alt=\"Open In Colab\"/></a>"
      ]
    },
    {
      "cell_type": "markdown",
      "metadata": {
        "id": "yPUc4Vbpk3Yt"
      },
      "source": [
        "## Importações"
      ]
    },
    {
      "cell_type": "code",
      "metadata": {
        "id": "RM-mAKMPVvWx"
      },
      "source": [
        "## Importando o que for necessário\n",
        "import pandas as pd\n",
        "import numpy as np\n",
        "from scipy import stats\n",
        "from zipfile import ZipFile\n",
        "import statsmodels.api as sm\n",
        "import statsmodels.stats.api as sms\n",
        "from IPython.display import clear_output # limpa o output de uma célula"
      ],
      "execution_count": null,
      "outputs": []
    },
    {
      "cell_type": "code",
      "metadata": {
        "id": "OxUSJw2wlG4u"
      },
      "source": [
        "## Modelos de painel\n",
        "#! pip install linearmodels  # já atualiza o statsmodels (caso precise)\n",
        "from linearmodels import PooledOLS, PanelOLS, RandomEffects\n",
        "from linearmodels.panel import compare\n",
        "\n",
        "## Para funções com modelos de painel, ver:\n",
        "# https://bashtage.github.io/linearmodels/panel/introduction.html"
      ],
      "execution_count": null,
      "outputs": []
    },
    {
      "cell_type": "code",
      "metadata": {
        "colab": {
          "base_uri": "https://localhost:8080/"
        },
        "id": "rUN18LROlXPu",
        "outputId": "2da77f00-be40-40f2-d8c6-877102482c06"
      },
      "source": [
        "## Montando o Google Drive\n",
        "from google.colab import drive\n",
        "drive.mount('/content/drive')"
      ],
      "execution_count": null,
      "outputs": [
        {
          "output_type": "stream",
          "name": "stdout",
          "text": [
            "Drive already mounted at /content/drive; to attempt to forcibly remount, call drive.mount(\"/content/drive\", force_remount=True).\n"
          ]
        }
      ]
    },
    {
      "cell_type": "code",
      "metadata": {
        "id": "E9lXMrjDllKC"
      },
      "source": [
        "## Definindo caminho no google drive on estão os dados\n",
        "sCaminho = \"/content/drive/MyDrive/Projetos/IDP/MBA/SetorPublicoI/código/Aula_Aplicação Paineis/\""
      ],
      "execution_count": null,
      "outputs": []
    },
    {
      "cell_type": "markdown",
      "metadata": {
        "id": "h1G0f7yrzu4t"
      },
      "source": [
        "# **Aplicação 1**"
      ]
    },
    {
      "cell_type": "code",
      "metadata": {
        "id": "EJnDO09WmeoH"
      },
      "source": [
        "## Lendo o dataset\n",
        "# Descrição das variáveis: https://www.rdocumentation.org/packages/wooldridge/versions/1.4-1/topics/wagepan\n",
        "sArquivo = f\"{sCaminho}wagepan.dta\"\n",
        "df = pd.read_stata(sArquivo)"
      ],
      "execution_count": null,
      "outputs": []
    },
    {
      "cell_type": "code",
      "metadata": {
        "id": "90HpoGfLpGVh"
      },
      "source": [
        "## Visualizando o dataset\n",
        "df.head(10)\n",
        "\n",
        "# indivíduo: nr\n",
        "# tempo: year"
      ],
      "execution_count": null,
      "outputs": []
    },
    {
      "cell_type": "code",
      "metadata": {
        "id": "n-9e4CuSpui6"
      },
      "source": [
        "# Vendo o tamanho da base\n",
        "print(f\"Linhas: {df.shape[0]}; Colunas: {df.shape[1]}\")"
      ],
      "execution_count": null,
      "outputs": []
    },
    {
      "cell_type": "code",
      "metadata": {
        "id": "ubFqDXgfp1XO"
      },
      "source": [
        "## Vendo quais variáveis são constantes ao longo do tempo (variância 0)\n",
        "# Constantes: \n",
        "# agric(dummy se trabalha na agricultura), black e hisp (dummies de cor)\n",
        "# manuf (dummy se trabalha na manufatura), south, nrthcen e nrtheast (dummies regionais)\n",
        "# e, mais importante, educação (todos os homens são adultos e apenas trabalham)\n",
        "df.groupby('nr').var()"
      ],
      "execution_count": null,
      "outputs": []
    },
    {
      "cell_type": "markdown",
      "metadata": {
        "id": "N1ZacYxdqVcO"
      },
      "source": [
        "### Montando a estrutura de painel"
      ]
    },
    {
      "cell_type": "code",
      "metadata": {
        "id": "UtySuLkqp1Lo"
      },
      "source": [
        "## Vendo grau de balancemaneto/desbalanceamento\n",
        "df['aparicoes'] = df.groupby('nr')['nr'].transform('count')\n",
        "df.drop_duplicates(subset=['nr'], keep='first')['aparicoes'].value_counts(normalize=True)*100\n",
        "# O painel é completamente balanceado (muito díficil na vida real, vide PNAD COVID e a PNADC, que costuma ser pior)"
      ],
      "execution_count": null,
      "outputs": []
    },
    {
      "cell_type": "code",
      "metadata": {
        "id": "DGOMMcHcqXBc"
      },
      "source": [
        "## Montando a estrutura do painel\n",
        "# drop=false mantém as colunas no DataFrame, o que facilita a inclusão de dummies anuais usando C(year)\n",
        "df = df.set_index([\"nr\", \"year\"], drop=False)"
      ],
      "execution_count": null,
      "outputs": []
    },
    {
      "cell_type": "code",
      "metadata": {
        "id": "_qXEPsxKq34W"
      },
      "source": [
        "## Vendo o resultado\n",
        "df.head(10)"
      ],
      "execution_count": null,
      "outputs": []
    },
    {
      "cell_type": "markdown",
      "metadata": {
        "id": "E2Khe7lQrFph"
      },
      "source": [
        "### Modelos\n",
        "\n",
        "Uma boa equação de salários para começar a análise de mudança no retorno da educação é \n",
        "\n",
        "lsalariohora = married + union + dt*educ\n",
        "\n",
        "Por que?\n",
        "\n",
        "- Pessoas casadas tendem a ganhar mais (seja porque se sentem mais motivadas, porque dividem o trabalho doméstico, várias teorias)\n",
        "\n",
        "- Pessoas sindicalizadas tendem a ganhar mais e ter salários mais \"pegajosos\" (fenômeno mais particular dos EUA, principalmente antes das reformas dos anos 90)"
      ]
    },
    {
      "cell_type": "code",
      "metadata": {
        "id": "iORxdA8mrTM0"
      },
      "source": [
        "## Estimando a equação por efeitos fixos\n",
        "# Operador ':' cria interações entre as variáveis\n",
        "# Operador '*' cria interações entre as variáveis E as adiciona sozinhas\n",
        "formula_simples = \"lwage ~ 1 + union + married + C(year)*educ + EntityEffects\"\n",
        "\n",
        "# Criando o modelo\n",
        "# drop_absorbed: se tiver alguma variável constante no tempo, pulá-la\n",
        "modelo_ef_simples = PanelOLS.from_formula(formula=formula_simples, data=df, drop_absorbed=True)\n",
        "modelo_ef_simples = modelo_ef_simples.fit(cov_type='robust')\n",
        "\n",
        "# Printando resultado\n",
        "print(modelo_ef_simples.summary)"
      ],
      "execution_count": null,
      "outputs": []
    },
    {
      "cell_type": "markdown",
      "metadata": {
        "id": "hF-PUFRTsosG"
      },
      "source": [
        "A mensagem de erro acima nos diz que educ teve que ser *droppada* da equação, o que se deve a ela ser constante no tempo.\n",
        "\n",
        "Só parece haver um aumento significante no retorno da educação (frente a 1980) a partir de 1986.\n",
        "Em 1987, por exemplo, estima-se que o retorno educacional seja 3% maior do que era em 1980, o que pode ser explicado, por exemplo, pela revolução tecnológica e pela preferência a trabalhos mais intelectuais no setor de serviços.\n",
        "\n",
        "Outra coisa a se notar é que não parece ter havido mudanças estruturais ao longo da década, o que é captado pelas dummies de cada ano (insignificantes individualmente)."
      ]
    },
    {
      "cell_type": "code",
      "metadata": {
        "id": "oeTGVduFtPJ0"
      },
      "source": [
        "## Podemos testar se as variáveis dummies são conjuntamente significantes usando um teste F,\n",
        "# que pode ser interpretado como uma versão do teste t aplicado a mais de uma variável\n",
        "H0 = \"0 = C(year)[T.1981] = C(year)[T.1982] = C(year)[T.1983] = C(year)[T.1984] = C(year)[T.1985] = C(year)[T.1986] = C(year)[T.1987]\"\n",
        "# Teste wald_test\n",
        "print(f\"O p-valor do teste é {modelo_ef_simples.wald_test(formula=H0).pval}\")\n",
        "\n",
        "# O p-valor é de 0,97, ou seja, não há mudanças estruturais no tempo (as mudanças temporais se devem a mudanças no retorno da educação)"
      ],
      "execution_count": null,
      "outputs": []
    },
    {
      "cell_type": "markdown",
      "metadata": {
        "id": "MmfKHGJptwJ2"
      },
      "source": [
        "### Comparando Modelos: Vale a pena ser sindicalizado?\n",
        "\n",
        "Usaremos três métodos e uma equação mais completa para estimar a equação salarial de **homens**: MQO Agrupado, EF e EA"
      ]
    },
    {
      "cell_type": "code",
      "metadata": {
        "id": "4v-ChxEDtti1"
      },
      "source": [
        "## Definindo a fórmula\n",
        "formula = \"lwage ~ 1 + educ + black + hisp + exper + expersq + married + union + C(year)\"\n",
        "formula_ef = f\"{formula} + EntityEffects\"\n",
        "\n",
        "## Criando os três modelos\n",
        "# Lembrando: o tipo da covariância não afetas as estimativas centrais, apenas os erros-padrão e os testes t dos estimadores.\n",
        "# Efeitos Fixos\n",
        "modelo_ef = PanelOLS.from_formula(formula=formula_ef, data=df, drop_absorbed=True)\n",
        "modelo_ef = modelo_ef.fit(cov_type='robust')\n",
        "\n",
        "# Efeitos Aleatórios\n",
        "modelo_ea = RandomEffects.from_formula(formula=formula, data=df).fit(cov_type='robust')\n",
        "\n",
        "# OLS Agrupado\n",
        "modelo_ols = PooledOLS.from_formula(formula=formula, data=df).fit(cov_type='robust')"
      ],
      "execution_count": null,
      "outputs": []
    },
    {
      "cell_type": "code",
      "metadata": {
        "id": "lbk2zcpauBpD"
      },
      "source": [
        "## Vendo os resultados\n",
        "print(\"P-valores entre parênteses.\")\n",
        "print(compare(\n",
        "    {'EF':modelo_ef, \n",
        "     'EA':modelo_ea,\n",
        "     'MQOA':modelo_ols}, \n",
        "     precision = 'pvalues').summary)"
      ],
      "execution_count": null,
      "outputs": []
    },
    {
      "cell_type": "markdown",
      "metadata": {
        "id": "LqvnNLw2ubWm"
      },
      "source": [
        "Antes de iniciar a análise, observa-se que experiência também não é estimada em efeitos fixos.\n",
        "\n",
        "Como incluímos dummies para todos os anos e todos os homens trabalham em todos os anos (ou seja, *exper* varia sempre em uma unidade), ela não pode ser estimada por EF (o aumento constante de um ano não pode ser distinguído do efeito temporal agregado).\n",
        "expersq, por sua vez, muda de forma variável ao longo dos anos -- 20^2 - 19^2 é diferente de 21^2 - 20^2."
      ]
    },
    {
      "cell_type": "markdown",
      "metadata": {
        "id": "UXu-FEHsuolp"
      },
      "source": [
        "Quando controlamos para todos os efeitos não-observáveis (EF e EA), o retorno de ser sindicalizado e casado cai (o que indica que homens mais 'capazes' tendem a ser casados e mais sindicalizados)."
      ]
    },
    {
      "cell_type": "markdown",
      "metadata": {
        "id": "kscd3U4Vu3UY"
      },
      "source": [
        "Essa foi a conclusão de um estudo publicado na [*Journal of Applied Econometrics*](https://www.jstor.org/stable/223257): pessoas sindicalizadas tendem a ter uma heterogeneidade individual que contribui para os salários, o que pode ser visto nos maiores coeficientes de EA e MQOA."
      ]
    },
    {
      "cell_type": "code",
      "metadata": {
        "id": "DrGgcba5vD1a"
      },
      "source": [
        "## Teste de Hausman para ver qual modelo é melhor\n",
        "# Antes, precisamos garantir que EA tenha as MESMAS variáveis que EF,\n",
        "# ou seja, sem as variáveis constantes no tempo\n",
        "formula_ea = \"lwage ~ 1 + expersq + married + union + C(year)\"\n",
        "modelo_ea = RandomEffects.from_formula(formula=formula_ea, data=df).fit(cov_type='kernel')"
      ],
      "execution_count": null,
      "outputs": []
    },
    {
      "cell_type": "code",
      "metadata": {
        "id": "l2TixSIbvrDn"
      },
      "source": [
        "## Calculando estatística de Hausman\n",
        "# Variância Assintótica\n",
        "var_assin = modelo_ef.cov - modelo_ea.cov\n",
        "\n",
        "# Diferença entre os parâmetros\n",
        "dif_parametros = modelo_ef.params - modelo_ea.params\n",
        "\n",
        "# Calculando a estatística de Hausman\n",
        "H = dif_parametros.dot(np.linalg.inv(var_assin)).dot(dif_parametros)\n",
        "\n",
        "# Grau de Liberdade\n",
        "graus_liberdade = modelo_ea.params.size - 1\n",
        "\n",
        "# Calculando p-valor\n",
        "# H0: não há correlação entre as variáveis independentes e as características não-observáveis\n",
        "# Não-rejeitar H0: prefere-se EA, mas EF ainda é consisteente\n",
        "# Rejeitar: prefere-se EF e EA é inconsistente\n",
        "p = stats.chi2(graus_liberdade).sf(H)\n",
        "\n",
        "print(p)\n",
        "\n",
        "# As características não-observáveis NÃO são correlacionadas com as variáveis do modelo\n",
        "# Assim, prefere-se EA \n",
        "# Melhor dos mundos: temos um estimador que elimina efeitos não-observados, consistente, eficiente \n",
        "# e que consegue estimar variáveis constantes no tempo"
      ],
      "execution_count": null,
      "outputs": []
    },
    {
      "cell_type": "markdown",
      "metadata": {
        "id": "VF1u1A1awO8R"
      },
      "source": [
        "### Analisando as mudanças na sindicalização ao longo do tempo por Efeitos Aleatórios"
      ]
    },
    {
      "cell_type": "code",
      "metadata": {
        "id": "3vm-RvT8wUW3"
      },
      "source": [
        "## Se a média de salário de sindicalizados é maior, espera-se que mais pessoas se tornem sindicalizadas\n",
        "# Isso aconteceu mesmo?\n",
        "df['year_column'] = df['year']  # criando para evitar um erro de ambiguidade no groupby (index e coluna se chamam year)\n",
        "df.groupby('year_column')['union'].mean()\n",
        "\n",
        "## Ao longo de 1980 a 1986, a sindicalização diminuiu ao longo do tempo"
      ],
      "execution_count": null,
      "outputs": []
    },
    {
      "cell_type": "code",
      "metadata": {
        "id": "GST2_3qawc68"
      },
      "source": [
        "## Vamos ver se o retorno da sindicalização mudou ao longo do tempo\n",
        "# Novamente, usamos o operador *\n",
        "formula_union = \"lwage ~ 1 + educ + black + hisp + exper + expersq + married + union*C(year)\"\n",
        "\n",
        "# Criando o modelo\n",
        "modelo_ea_union = RandomEffects.from_formula(formula=formula_union, data=df)\n",
        "modelo_ea_union = modelo_ea_union.fit(cov_type='robust')\n",
        "\n",
        "# Printando modelo_ef_union\n",
        "print(modelo_ea_union.summary)"
      ],
      "execution_count": null,
      "outputs": []
    },
    {
      "cell_type": "markdown",
      "metadata": {
        "id": "VFrm8jRMw2Bh"
      },
      "source": [
        "Como *union* não é constante no tempo, conseguimos estimá-la para o ano base.\n",
        "Em 1980, o retorno para o salário de ser sindicalizado era de ≈+17,47%, o que se reduziu principalmente a partir de 1986 (mesmo ano em que a mudança no retorno da educação passa a ser significante no modelo anterior)."
      ]
    },
    {
      "cell_type": "markdown",
      "metadata": {
        "id": "LoKoWTEh0ESx"
      },
      "source": [
        "# **Aplicação 2**"
      ]
    },
    {
      "cell_type": "code",
      "metadata": {
        "id": "mMxMEMBDzpb6"
      },
      "source": [
        "## Lendo o dataset\n",
        "# Descrição das variáveis: https://rdrr.io/cran/wooldridge/man/driving.html\n",
        "sArquivo = f\"{sCaminho}driving.dta\"\n",
        "df = pd.read_stata(sArquivo)"
      ],
      "execution_count": null,
      "outputs": []
    },
    {
      "cell_type": "code",
      "metadata": {
        "id": "dAavOUdh0Xh-"
      },
      "source": [
        "df.head()"
      ],
      "execution_count": null,
      "outputs": []
    },
    {
      "cell_type": "code",
      "metadata": {
        "id": "CFSMH6wc0iD8"
      },
      "source": [
        "# Vendo o tamanho da base\n",
        "print(f\"Linhas: {df.shape[0]}; Colunas: {df.shape[1]}\")"
      ],
      "execution_count": null,
      "outputs": []
    },
    {
      "cell_type": "code",
      "metadata": {
        "id": "m9lix9PY0uN-"
      },
      "source": [
        "## Descrevendo o dataset\n",
        "df.describe()\n",
        "\n",
        "# bac08 e bac10: limite máximo de álcool no sangue\n",
        "# per se: revogação de licença imediatamente após crise de trânsito\n",
        "# sbprim: oficiais de trânsito podem multar pessoas que não usem cinto de segurança (primary seatbelt law)\n",
        "# sbsecon: oficiais de trânsito só podem multar a falta de cinto se houver algum outro motivo para parar o carro\n",
        "# s170plus: limite de velocidade (speed limit) médio acima de 70 milhas por hora\n",
        "# gdl: programa de supervisão de motoristas mais jovens\n",
        "# perc14_24: percentagem da população entre 14 e 24 anos\n",
        "# unem: taxa de desemprego\n",
        "# vehicmilespc: número de milhas dirigidas por ano"
      ],
      "execution_count": null,
      "outputs": []
    },
    {
      "cell_type": "markdown",
      "metadata": {
        "id": "Fzd2Gfpv1LL7"
      },
      "source": [
        "Estamos interessados na variável *totfatrte* (*total fatality rate*): a taxa de fatalidade por 100.000 habitantes."
      ]
    },
    {
      "cell_type": "code",
      "metadata": {
        "id": "2dBkMOBS1Um3"
      },
      "source": [
        "## Vendo como ela se comportou ao longo do tempo\n",
        "taxa_fatalidade_ano = df.groupby('year')['totfatrte'].mean()\n",
        "taxa_fatalidade_ano.plot(kind=\"bar\")\n",
        "print(taxa_fatalidade_ano)\n",
        "\n",
        "# A média nacional caiu: houve menos mortes no trânsito por 100.000 habitantes"
      ],
      "execution_count": null,
      "outputs": []
    },
    {
      "cell_type": "markdown",
      "metadata": {
        "id": "v7lE3BZX1f7M"
      },
      "source": [
        "### Estruturando o Painel e Modelo Inicial"
      ]
    },
    {
      "cell_type": "code",
      "metadata": {
        "colab": {
          "base_uri": "https://localhost:8080/"
        },
        "id": "ha0i2nIm1iDU",
        "outputId": "e60c24a4-8207-4a49-a555-53355b5ab2a6"
      },
      "source": [
        "## Vendo grau de balancemaneto/desbalanceamento\n",
        "df['aparicoes'] = df.groupby('state')['state'].transform('count')\n",
        "df.drop_duplicates(subset=['state'], keep='first')['aparicoes'].value_counts(normalize=True)*100\n",
        "\n",
        "# O painel é completamente balanceado, com todos os indivíduos sendo observados por 25 anos.\n",
        "# (o que faz sentido, já que os dados são de estados e não indivíduos, que podem deixar de responder)"
      ],
      "execution_count": null,
      "outputs": [
        {
          "output_type": "execute_result",
          "data": {
            "text/plain": [
              "25    100.0\n",
              "Name: aparicoes, dtype: float64"
            ]
          },
          "metadata": {},
          "execution_count": 52
        }
      ]
    },
    {
      "cell_type": "code",
      "metadata": {
        "id": "5zTtSQtO1pi3"
      },
      "source": [
        "## Montando a estrutura do painel\n",
        "df = df.set_index([\"state\", \"year\"], drop=False)"
      ],
      "execution_count": null,
      "outputs": []
    },
    {
      "cell_type": "code",
      "metadata": {
        "id": "cAHJDhSr1y9c"
      },
      "source": [
        "## Fazendo a mesma análise do gráfico usando MQO Agrupado\n",
        "formula_ano = \"totfatrte ~ 1 + C(year)\"\n",
        "\n",
        "# OLS Agrupado\n",
        "modelo_ols_ano = PooledOLS.from_formula(formula=formula_ano, data=df).fit()\n",
        "print(modelo_ols_ano.summary)\n",
        "\n",
        "# Cada dummy possui um coeficiente menor que o do ano anterior (de modo geral)\n",
        "# Como visto no gráfico, a taxa de fatalidade por 100.000 habitantes diminui ao longo do tempo\n",
        "# A pergunta que fica é: por que?"
      ],
      "execution_count": null,
      "outputs": []
    },
    {
      "cell_type": "markdown",
      "metadata": {
        "id": "_l5PQXw-2Kgz"
      },
      "source": [
        "### Comparando Modelos"
      ]
    },
    {
      "cell_type": "code",
      "metadata": {
        "id": "Ktof2ZWF2GZr"
      },
      "source": [
        "## Adicionando outros controles\n",
        "formula = \"totfatrte ~ 1+ C(year) + bac08 + bac10 + perse + sbprim + sbsecon + sl70plus + gdl + perc14_24 + unem + vehicmilespc\"\n",
        "# bac08 e bac10: limite máximo de álcool no sangue\n",
        "# per se: revogação de licença imediatamente após crise de trânsito\n",
        "# sbprim: oficiais de trânsito podem multar pessoas que não usem cinto de segurança (primary seatbelt law)\n",
        "# sbsecon: oficiais de trânsito só podem multar a falta de cinto se houver algum outro motivo para parar o carro\n",
        "# s170plus: limite de velocidade (speed limit) médio acima de 70 milhas por hora\n",
        "# gdl: programa de supervisão de motoristas mais jovens\n",
        "# perc14_24: percentagem da população entre 14 e 24 anos\n",
        "# unem: taxa de desemprego\n",
        "# vehicmilespc: número de milhas dirigidas por ano\n",
        "\n",
        "\n",
        "# OLS Agrupado\n",
        "modelo_ols = PooledOLS.from_formula(formula=formula, data=df).fit(cov_type=\"robust\")  # controlando para heteroscedasticidade\n",
        "print(modelo_ols.summary)"
      ],
      "execution_count": null,
      "outputs": []
    },
    {
      "cell_type": "markdown",
      "metadata": {
        "id": "E-prE6Rj2ivM"
      },
      "source": [
        "- Efeitos temporais se intensificaram, o que mostra que as mortes podem estar concentrados em estados sem leis mais fortes\n",
        "- Limite de álcool no sangue mais severo contribui para a queda nas mortes de trânsito (-2.49 a cada 100.000 mil habitantes), bem como leis *per se*, apesar de menos intencidade\n",
        "- Cinto de segurança parece não ter efeito sobre a mortalidade (p-valor alto)\n",
        "- Limites maiores de velocidade estão ligados a 3.34 mais mortes anuais no trânsito por 100.000 habitantes;\n",
        "- Motoristas e população jovem não tem efeito sobre a taxa de fatalidade\n",
        "- Mais desemprego contribui para mais mortes no trânsito (por que)?\n",
        "- Milhas dirigidas não parece estar ligado a mais mortes (apesar ter p-valor 0, o valor da estimativa é muito diminuto)"
      ]
    },
    {
      "cell_type": "markdown",
      "metadata": {
        "id": "H59SxG3V1ffX"
      },
      "source": [
        ""
      ]
    },
    {
      "cell_type": "code",
      "metadata": {
        "id": "-Al6wUgp2-lH"
      },
      "source": [
        "## Regredindo por efeitos fixos\n",
        "formula_ef = f\"{formula} + EntityEffects\"\n",
        "modelo_ef = PanelOLS.from_formula(formula=formula_ef, data=df).fit(cov_type=\"robust\")  # controlando para heteroscedasticidade\n",
        "\n",
        "## Comparando os dois modelos\n",
        "print(\"P-valores entre parênteses.\")\n",
        "print(compare(\n",
        "    {'EF':modelo_ef, \n",
        "    'MQOA':modelo_ols}, \n",
        "    precision = 'pvalues').summary)"
      ],
      "execution_count": null,
      "outputs": []
    },
    {
      "cell_type": "markdown",
      "metadata": {
        "id": "mgoikNck3PWC"
      },
      "source": [
        "- Limites de álcool no sangue tem sua importância diminuída;\n",
        "- Leis de cinto de segurança (primárias) diminuem a mortalidade\n",
        "- Maiores limites de velocidade se tornam estatisticamente insignificantes\n",
        "- Uma população mais jovem passa a ser marginalmente significante em explicar maiores taxas de fatalidade\n",
        "- Desemprego passa a diminuir as mortes de trânsito e milhas dirigidas continuam tendo efeito diminuto"
      ]
    },
    {
      "cell_type": "code",
      "metadata": {
        "id": "4o5TQSn33epO"
      },
      "source": [
        "## Fazendo Efeitos Aleatórios e comparando as estimativas\n",
        "modelo_ea = RandomEffects.from_formula(formula=formula, data=df).fit(cov_type=\"robust\")  # controlando para heteroscedasticidade\n",
        "\n",
        "## Comparando os dois modelos\n",
        "print(\"P-valores entre parênteses.\")\n",
        "print(compare(\n",
        "    {'EA':modelo_ea,\n",
        "    'EF':modelo_ef, \n",
        "    'MQOA':modelo_ols}, \n",
        "    precision = 'pvalues').summary)"
      ],
      "execution_count": null,
      "outputs": []
    },
    {
      "cell_type": "code",
      "metadata": {
        "id": "KI5tzq-530I4"
      },
      "source": [
        "## As estimativas de EA parecem bem semelhantes às de EF: qual modelo é mais eficiente?\n",
        "# Curiosidade: por ser calculado com uma quasi-média, EA SEMPRE SEMPRE SEMPRE estará entre as estimativas de MQOA e EF\n",
        "# (quando todos os modelos estimarem as mesmas variáveis)\n",
        "\n",
        "## Fazendo o teste de Hausman\n",
        "# Variância Assintótica\n",
        "var_assin = modelo_ef.cov - modelo_ea.cov\n",
        "\n",
        "# Diferença entre os parâmetros\n",
        "dif_parametros = modelo_ef.params - modelo_ea.params\n",
        "\n",
        "# Calculando a estatística de Hausman\n",
        "H = dif_parametros.dot(np.linalg.inv(var_assin)).dot(dif_parametros)\n",
        "\n",
        "# Grau de Liberdade\n",
        "graus_liberdade = modelo_ea.params.size - 1\n",
        "\n",
        "# Calculando p-valor\n",
        "# H0: não há correlação entre as variáveis independentes e as características não-observáveis\n",
        "# Não-rejeitar H0: prefere-se EA, mas EF ainda é consisteente\n",
        "# Rejeitar: prefere-se EF e EA é inconsistente\n",
        "p = stats.chi2(graus_liberdade).sf(H)\n",
        "\n",
        "print(p)\n",
        "\n",
        "# As características não-observáveis NÃO são correlacionadas com as variáveis do modelo.\n",
        "# Isso faz sentido, já que estamos tratando de estados e não pessoas\n",
        "# Assim, prefere-se EA"
      ],
      "execution_count": null,
      "outputs": []
    },
    {
      "cell_type": "markdown",
      "metadata": {
        "id": "pXMHB4Jo5OaM"
      },
      "source": [
        "# **Aplicação 3**\n",
        "\n"
      ]
    },
    {
      "cell_type": "code",
      "metadata": {
        "id": "-iWWpK1x5PEB"
      },
      "source": [
        "## Lendo o dataset\n",
        "# Descrição das variáveis: https://rdrr.io/cran/wooldridge/man/airfare.html\n",
        "sArquivo = f\"{sCaminho}airfare.dta\"\n",
        "df = pd.read_stata(sArquivo)"
      ],
      "execution_count": null,
      "outputs": []
    },
    {
      "cell_type": "code",
      "metadata": {
        "id": "TFHzzyXS5ii8"
      },
      "source": [
        "df.head()"
      ],
      "execution_count": null,
      "outputs": []
    },
    {
      "cell_type": "code",
      "metadata": {
        "colab": {
          "base_uri": "https://localhost:8080/"
        },
        "id": "p1J-3XlV5qlz",
        "outputId": "1b0ba7de-11b6-4ad1-fca2-78dadc5e8ec0"
      },
      "source": [
        "# Vendo o tamanho da base\n",
        "print(f\"Linhas: {df.shape[0]}; Colunas: {df.shape[1]}\")"
      ],
      "execution_count": null,
      "outputs": [
        {
          "output_type": "stream",
          "name": "stdout",
          "text": [
            "Linhas: 4596; Colunas: 14\n"
          ]
        }
      ]
    },
    {
      "cell_type": "code",
      "metadata": {
        "id": "8YAMEeIq6GU3"
      },
      "source": [
        "## Número de (rotas): 1.149\n",
        "# Como há 4596 linhas e 1.149 indivíduos, já sabemos que o painel é totalmente balanceado (4596/1149 = 4)\n",
        "df.groupby('id')['id'].count()"
      ],
      "execution_count": null,
      "outputs": []
    },
    {
      "cell_type": "code",
      "metadata": {
        "id": "H5ENIQuy6Qpn"
      },
      "source": [
        "## Descrevendo o dataset\n",
        "df.describe()\n",
        "\n",
        "# dist: distancia da rota, em milhas\n",
        "# passen: número médio de passageiros por dia\n",
        "# fare: preço médio da passagem (só de ida)\n",
        "# bmktshr=concen: fração do mercado da maior operadora da linha (biggest market share)\n",
        "#   ^medida de concentração de mercado!"
      ],
      "execution_count": null,
      "outputs": []
    },
    {
      "cell_type": "code",
      "metadata": {
        "id": "jmRdbzD16bvG"
      },
      "source": [
        "## Vendo como a tarifa média se comportou ao longo do tempo\n",
        "tarifa_ano = df.groupby('year')['fare'].mean()\n",
        "tarifa_ano.plot(kind=\"bar\")\n",
        "print(tarifa_ano)"
      ],
      "execution_count": null,
      "outputs": []
    },
    {
      "cell_type": "code",
      "metadata": {
        "id": "OwMRz9Q16i4e"
      },
      "source": [
        "## Montando a estrutura do painel\n",
        "df = df.set_index([\"id\", \"year\"], drop=False)"
      ],
      "execution_count": null,
      "outputs": []
    },
    {
      "cell_type": "code",
      "metadata": {
        "id": "a-FrohSP6mjQ"
      },
      "source": [
        "## O que pode determinar o aumento de preço por ano?\n",
        "## Modelo MQOA\n",
        "formula = \"lfare ~ 1 + concen + ldist + ldistsq + C(year)\"\n",
        "\n",
        "modelo_ols = PooledOLS.from_formula(formula=formula, data=df).fit(cov_type=\"robust\")\n",
        "print(modelo_ols.summary)"
      ],
      "execution_count": null,
      "outputs": []
    },
    {
      "cell_type": "markdown",
      "metadata": {
        "id": "-BdfZtz67TIl"
      },
      "source": [
        "- Um aumento de 10% na concentração de mercado aumenta em 3,6% o preço médio de uma rota;\n",
        "- O preço da passagem cresce de forma exponencial com a distância (mesmo comportamento de educação nas equações de salário).\n",
        "Note que o efeito combinado de *ldist* só é menor que 0 quando *ldist* < 4.35 (0,1030*ldist* < 0,9016*ldistsq*) e, consequentemente, *ldist* < 80. O menor valor de distância no dataset é de 95 milhas, ou seja, sempre a distância contribui positivamente para o preço no *range* dos nossos dados."
      ]
    },
    {
      "cell_type": "markdown",
      "metadata": {
        "id": "tSLTNHNX-KVS"
      },
      "source": [
        ""
      ]
    },
    {
      "cell_type": "markdown",
      "metadata": {
        "id": "gC1znAmu-J6e"
      },
      "source": [
        "**Detalhe téorico**: como *ldist* e *lfare* estão em log, diz-se que os coeficientes de *ldist* são as **elasticidades** e dizem a variação percentual do preço para uma variação de 1% na distância.\n",
        "\n",
        "Como usamos termos quadráticos, permitimos que essa elasticidade seja variável: nossas estimativas indicam que, quanto maior a distância, um incremento adicional de 1% leva a um aumento maior no preço do que em menores distâncias (o que faz sentido: 1% de 200 milhas é maior que 1% de 100 milhas e os custos de linhas aéreas costumam ser calculados por milhas (ou quilômetros) no ar)."
      ]
    },
    {
      "cell_type": "markdown",
      "metadata": {
        "id": "RIcqX5dG3PFn"
      },
      "source": [
        "De forma similar, como *concen* é uma taxa percentual, ela também é a **elasticidade do preço com relação a concentração de mercado**: seu coeficiente mostra, para uma variação de 1% na concentração, qual será a variação do preço"
      ]
    },
    {
      "cell_type": "code",
      "metadata": {
        "id": "G6sTJW8R-bwh"
      },
      "source": [
        "## Comparando modelos\n",
        "## Definindo a fórmula\n",
        "formula_ef = f\"{formula} + EntityEffects\"\n",
        "\n",
        "## Criando os três modelos\n",
        "# Efeitos Fixos (não estimam a distância porque ela é fixa para uma dada rota)\n",
        "modelo_ef = PanelOLS.from_formula(formula=formula_ef, data=df, drop_absorbed=True)\n",
        "modelo_ef = modelo_ef.fit(cov_type='robust')\n",
        "\n",
        "# Efeitos Aleatórios\n",
        "modelo_ea = RandomEffects.from_formula(formula=formula, data=df).fit(cov_type='robust')"
      ],
      "execution_count": null,
      "outputs": []
    },
    {
      "cell_type": "code",
      "metadata": {
        "id": "JtTYvFA5-fhN"
      },
      "source": [
        "## Vendo os resultados\n",
        "print(\"P-valores entre parênteses.\")\n",
        "print(compare(\n",
        "    {'EF':modelo_ef, \n",
        "     'EA':modelo_ea,\n",
        "     'MQOA':modelo_ols}, \n",
        "     precision = 'pvalues').summary)"
      ],
      "execution_count": null,
      "outputs": []
    },
    {
      "cell_type": "markdown",
      "metadata": {
        "id": "FLbCN8Pl-pcf"
      },
      "source": [
        "Apesar de menor, as estimativas para o efeito da concentração de EF e EA (que retiram particularidades não-observadas de cada rota) ainda são bastante altas e significativas: há distorção de oligopólio/monopólio em qualquer um dos modelos."
      ]
    },
    {
      "cell_type": "code",
      "metadata": {
        "id": "RjWt-iwu-yTh"
      },
      "source": [
        "## Por fim, teste de Hausman\n",
        "# Modelo EA sem ldist e ldistsq\n",
        "formula_ea = \"lfare ~ 1 + concen + C(year)\"\n",
        "modelo_ea_ldist = RandomEffects.from_formula(formula=formula_ea, data=df).fit(cov_type='robust')\n",
        "\n",
        "# Variância Assintótica\n",
        "var_assin = modelo_ef.cov - modelo_ea_ldist.cov\n",
        "\n",
        "# Diferença entre os parâmetros\n",
        "dif_parametros = modelo_ef.params - modelo_ea_ldist.params\n",
        "\n",
        "# Calculando a estatística de Hausman\n",
        "H = dif_parametros.dot(np.linalg.inv(var_assin)).dot(dif_parametros)\n",
        "\n",
        "# Grau de Liberdade\n",
        "graus_liberdade = modelo_ea_ldist.params.size - 1\n",
        "\n",
        "# Calculando p-valor\n",
        "# H0: não há correlação entre as variáveis independentes e as características não-observáveis\n",
        "# Não-rejeitar H0: prefere-se EA, mas EF ainda é consisteente\n",
        "# Rejeitar: prefere-se EF e EA é inconsistente\n",
        "p = stats.chi2(graus_liberdade).sf(H)\n",
        "\n",
        "print(p)\n",
        "\n",
        "# As características não-observáveis NÃO são correlacionadas com as variáveis do modelo\n",
        "# Assim, prefere-se EA e estimativa mais precisa da elasticidade da concentração é ≈ 0,2"
      ],
      "execution_count": null,
      "outputs": []
    },
    {
      "cell_type": "markdown",
      "metadata": {
        "id": "MFYzW3kU--di"
      },
      "source": [
        "# Bom sábado a todos!"
      ]
    }
  ]
}